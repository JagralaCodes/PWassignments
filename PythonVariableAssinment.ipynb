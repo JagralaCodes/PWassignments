{
 "cells": [
  {
   "cell_type": "markdown",
   "id": "65f49ab5-3b1a-4e0f-a1f8-28c5aaa8a85d",
   "metadata": {},
   "source": [
    " Q1. Write all the conventions being followed while declaring a variable."
   ]
  },
  {
   "cell_type": "markdown",
   "id": "96b0a909-2539-48a8-903f-a93cfc90e5ec",
   "metadata": {},
   "source": [
    "A variable can consist of uppercase and lowercase letters, digits 0-9 , first characters shouldn't be digit, underscore characters and no reserved character                                \n",
    "example:"
   ]
  },
  {
   "cell_type": "code",
   "execution_count": 6,
   "id": "c95590e8-95fd-461c-832b-7724de3b13d1",
   "metadata": {},
   "outputs": [],
   "source": [
    "a=2\n",
    "a1=3\n",
    "a_1=4"
   ]
  },
  {
   "cell_type": "code",
   "execution_count": 5,
   "id": "965ebabb-5e16-4758-94d8-947acda71926",
   "metadata": {},
   "outputs": [
    {
     "data": {
      "text/plain": [
       "9"
      ]
     },
     "execution_count": 5,
     "metadata": {},
     "output_type": "execute_result"
    }
   ],
   "source": [
    "a+a1+a_1"
   ]
  },
  {
   "cell_type": "markdown",
   "id": "d1e294c4-198d-4de4-a699-1d043163f595",
   "metadata": {},
   "source": [
    "Q2. What will happen if we declare a restricted keyword as a variable?"
   ]
  },
  {
   "cell_type": "markdown",
   "id": "1487671e-9c7e-44c9-97f5-4c178916767d",
   "metadata": {},
   "source": [
    "If we declare a restricted keyword as a variable we'll get a SyntaxError."
   ]
  },
  {
   "cell_type": "code",
   "execution_count": 7,
   "id": "80b3f179-22a4-4d22-99fe-2a0cfaf11035",
   "metadata": {},
   "outputs": [
    {
     "ename": "SyntaxError",
     "evalue": "invalid syntax (1949494149.py, line 1)",
     "output_type": "error",
     "traceback": [
      "\u001b[0;36m  Cell \u001b[0;32mIn[7], line 1\u001b[0;36m\u001b[0m\n\u001b[0;31m    and=2\u001b[0m\n\u001b[0m    ^\u001b[0m\n\u001b[0;31mSyntaxError\u001b[0m\u001b[0;31m:\u001b[0m invalid syntax\n"
     ]
    }
   ],
   "source": [
    "and=2"
   ]
  },
  {
   "cell_type": "markdown",
   "id": "804c3a20-7464-40cf-b734-cbb0edf6b810",
   "metadata": {},
   "source": [
    "                                                                                      \n",
    "                                                                                      \n",
    "Q3. Can we actually declare a string as a variable name?"
   ]
  },
  {
   "cell_type": "markdown",
   "id": "5e97c527-94fa-4375-a5c8-91167f8bb608",
   "metadata": {},
   "source": [
    "Yes we can declare a string as a variable name."
   ]
  },
  {
   "cell_type": "code",
   "execution_count": 9,
   "id": "795ba077-75b7-4595-9afd-fb020b03c418",
   "metadata": {},
   "outputs": [
    {
     "name": "stdout",
     "output_type": "stream",
     "text": [
      "Value of variable: 5\n"
     ]
    }
   ],
   "source": [
    "Var = 5\n",
    "print(\"Value of variable:\", Var)"
   ]
  },
  {
   "cell_type": "markdown",
   "id": "abd9ff6a-556a-401e-b2e6-b7aee3e492be",
   "metadata": {},
   "source": [
    "Q4. Is it possible for us to declare “_” as a variable? If so, then write an example of it."
   ]
  },
  {
   "cell_type": "code",
   "execution_count": 10,
   "id": "735255f0-b061-4a8c-a8d4-659f7938ceb1",
   "metadata": {},
   "outputs": [],
   "source": [
    "a1_2=4\n",
    "abc_xyz=5"
   ]
  },
  {
   "cell_type": "markdown",
   "id": "72b2ec72-f1b5-4bd6-8c37-5a85b192e7fa",
   "metadata": {},
   "source": [
    "Q5. Using an example, explain how the variables in python are dynamic in nature."
   ]
  },
  {
   "cell_type": "markdown",
   "id": "a7f478eb-6629-401d-b5eb-c7b0f2aeb161",
   "metadata": {},
   "source": [
    "In python we don't have to declare the type of a variable as like other programming language. So, Python is a dynamic in nature."
   ]
  },
  {
   "cell_type": "code",
   "execution_count": 11,
   "id": "668fbccd-ddbc-4939-86ff-baef04785477",
   "metadata": {},
   "outputs": [],
   "source": [
    "num=10\n",
    "wrd=\"Word\""
   ]
  },
  {
   "cell_type": "code",
   "execution_count": 13,
   "id": "1a168906-9883-4f81-9460-3b28a350bd8c",
   "metadata": {},
   "outputs": [
    {
     "data": {
      "text/plain": [
       "int"
      ]
     },
     "execution_count": 13,
     "metadata": {},
     "output_type": "execute_result"
    }
   ],
   "source": [
    "type(num)"
   ]
  },
  {
   "cell_type": "code",
   "execution_count": 14,
   "id": "8873b9a5-1cbd-45e8-b9a7-04f2cee548e2",
   "metadata": {},
   "outputs": [
    {
     "data": {
      "text/plain": [
       "str"
      ]
     },
     "execution_count": 14,
     "metadata": {},
     "output_type": "execute_result"
    }
   ],
   "source": [
    "type(wrd)"
   ]
  },
  {
   "cell_type": "code",
   "execution_count": null,
   "id": "a416d0a7-a2ed-47e3-b3aa-01596edd1b01",
   "metadata": {},
   "outputs": [],
   "source": []
  }
 ],
 "metadata": {
  "kernelspec": {
   "display_name": "Python 3 (ipykernel)",
   "language": "python",
   "name": "python3"
  },
  "language_info": {
   "codemirror_mode": {
    "name": "ipython",
    "version": 3
   },
   "file_extension": ".py",
   "mimetype": "text/x-python",
   "name": "python",
   "nbconvert_exporter": "python",
   "pygments_lexer": "ipython3",
   "version": "3.10.8"
  }
 },
 "nbformat": 4,
 "nbformat_minor": 5
}
